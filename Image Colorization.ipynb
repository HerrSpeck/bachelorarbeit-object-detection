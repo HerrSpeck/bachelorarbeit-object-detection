{
 "cells": [
  {
   "cell_type": "code",
   "execution_count": null,
   "id": "d5a91a04",
   "metadata": {},
   "outputs": [],
   "source": [
    "#NOTE:  This must be the first call in order to work properly!\n",
    "from deoldify import device\n",
    "from deoldify.device_id import DeviceId\n",
    "#choices:  CPU, GPU0...GPU7\n",
    "device.set(device=DeviceId.GPU0)"
   ]
  },
  {
   "cell_type": "code",
   "execution_count": null,
   "id": "b6e02c87",
   "metadata": {},
   "outputs": [],
   "source": [
    "from deoldify.visualize import *\n",
    "\n",
    "plt.style.use('dark_background')\n",
    "torch.backends.cudnn.benchmark=True\n",
    "\n",
    "import warnings\n",
    "\n",
    "warnings.filterwarnings(\n",
    "    \"ignore\",\n",
    "    category=UserWarning,\n",
    "    message=\".*?Your .*? set is empty.*?\"\n",
    ")\n",
    "\n",
    "from pathlib import Path\n",
    "import time"
   ]
  },
  {
   "cell_type": "code",
   "execution_count": null,
   "id": "2036b1a4",
   "metadata": {},
   "outputs": [],
   "source": [
    "# Load all images\n",
    "image_paths = []\n",
    "file_path = 'inputs/grayscale/' # use colorized_stable for stable model\n",
    "\n",
    "for image_path in os.listdir(file_path):\n",
    "    if (image_path.endswith('.jpg')):\n",
    "        # Collect image as valid path\n",
    "        image_paths.append(file_path + image_path)\n",
    "        \n",
    "print(len(image_paths))"
   ]
  },
  {
   "cell_type": "code",
   "execution_count": null,
   "id": "ee44d38b",
   "metadata": {},
   "outputs": [],
   "source": [
    "# To use stable model, set to false\n",
    "useArtistic = False\n",
    "\n",
    "# Set output directory based on model\n",
    "output = 'inputs/colorized_artistic/' if useArtistic else 'inputs/colorized_stable/'\n",
    "\n",
    "# Load respective model\n",
    "colorizer = get_image_colorizer(artistic=useArtistic)"
   ]
  },
  {
   "cell_type": "code",
   "execution_count": null,
   "id": "21ccfdcd",
   "metadata": {},
   "outputs": [],
   "source": [
    "#NOTE:  Max is 45 with 11GB video cards. 35 is a good default\n",
    "render_factor=35\n",
    "\n",
    "start_time = time.time()\n",
    "count = len(image_paths)\n",
    "i = 1\n",
    "percentage = ''\n",
    "\n",
    "# Generate colorized images\n",
    "for image_path in image_paths:\n",
    "    result_path = colorizer.plot_transformed_image(\n",
    "        path=image_path,\n",
    "        render_factor=render_factor,\n",
    "        compare=False,\n",
    "        results_dir=Path(output)\n",
    "    )\n",
    "    # Get percentage\n",
    "    percentage = (i / count) * 100\n",
    "    # Print percentage\n",
    "    print(f'{percentage:.1f}' + '%')\n",
    "    i += 1\n",
    "    \n",
    "runtime = ((time.time() - start_time) / 60)\n",
    "print(\"--- Runtime: \" + f'{runtime:.2f}' + \" minutes ---\")"
   ]
  },
  {
   "cell_type": "code",
   "execution_count": null,
   "id": "5b13d6bd",
   "metadata": {},
   "outputs": [],
   "source": [
    "# See how well render_factor values perform on the image here\n",
    "# Only run this for testing\n",
    "for i in range(10,46):\n",
    "    colorizer.plot_transformed_image(source_path, render_factor=i, display_render_factor=True, figsize=(10,10))"
   ]
  },
  {
   "cell_type": "code",
   "execution_count": null,
   "id": "de77253d",
   "metadata": {},
   "outputs": [],
   "source": []
  }
 ],
 "metadata": {
  "kernelspec": {
   "display_name": "Python 3",
   "language": "python",
   "name": "python3"
  },
  "language_info": {
   "codemirror_mode": {
    "name": "ipython",
    "version": 3
   },
   "file_extension": ".py",
   "mimetype": "text/x-python",
   "name": "python",
   "nbconvert_exporter": "python",
   "pygments_lexer": "ipython3",
   "version": "3.8.8"
  }
 },
 "nbformat": 4,
 "nbformat_minor": 5
}
