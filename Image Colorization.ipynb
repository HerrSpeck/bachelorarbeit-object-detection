{
 "cells": [
  {
   "cell_type": "code",
   "execution_count": 1,
   "id": "d5a91a04",
   "metadata": {},
   "outputs": [
    {
     "data": {
      "text/plain": [
       "<DeviceId.GPU0: 0>"
      ]
     },
     "execution_count": 1,
     "metadata": {},
     "output_type": "execute_result"
    }
   ],
   "source": [
    "#NOTE:  This must be the first call in order to work properly!\n",
    "from deoldify import device\n",
    "from deoldify.device_id import DeviceId\n",
    "#choices:  CPU, GPU0...GPU7\n",
    "device.set(device=DeviceId.GPU0)"
   ]
  },
  {
   "cell_type": "code",
   "execution_count": 2,
   "id": "b6e02c87",
   "metadata": {},
   "outputs": [],
   "source": [
    "from deoldify.visualize import *\n",
    "\n",
    "plt.style.use('dark_background')\n",
    "torch.backends.cudnn.benchmark=True\n",
    "\n",
    "import warnings\n",
    "\n",
    "warnings.filterwarnings(\n",
    "    \"ignore\",\n",
    "    category=UserWarning,\n",
    "    message=\".*?Your .*? set is empty.*?\"\n",
    ")\n",
    "\n",
    "from pathlib import Path\n",
    "import time"
   ]
  },
  {
   "cell_type": "code",
   "execution_count": 3,
   "id": "2036b1a4",
   "metadata": {},
   "outputs": [
    {
     "name": "stdout",
     "output_type": "stream",
     "text": [
      "80\n"
     ]
    }
   ],
   "source": [
    "# Load all images\n",
    "image_paths = []\n",
    "file_path = 'inputs/grayscale/' # use colorized_stable for stable model\n",
    "\n",
    "for image_path in os.listdir(file_path):\n",
    "    if (image_path.endswith('.jpg')):\n",
    "        # Collect image as valid path\n",
    "        image_paths.append(file_path + image_path)\n",
    "        \n",
    "print(len(image_paths))"
   ]
  },
  {
   "cell_type": "code",
   "execution_count": 4,
   "id": "ee44d38b",
   "metadata": {},
   "outputs": [],
   "source": [
    "# To use stable model, set to false\n",
    "useArtistic = False\n",
    "\n",
    "# Set output directory based on model\n",
    "output = 'inputs/colorized_artistic/' if useArtistic else 'inputs/colorized_stable/'\n",
    "\n",
    "# Load respective model\n",
    "colorizer = get_image_colorizer(artistic=useArtistic)"
   ]
  },
  {
   "cell_type": "code",
   "execution_count": null,
   "id": "21ccfdcd",
   "metadata": {},
   "outputs": [
    {
     "name": "stdout",
     "output_type": "stream",
     "text": [
      "1.2%\n",
      "2.5%\n",
      "3.8%\n",
      "5.0%\n",
      "6.2%\n",
      "7.5%\n",
      "8.8%\n",
      "10.0%\n",
      "11.2%\n",
      "12.5%\n",
      "13.8%\n",
      "15.0%\n",
      "16.2%\n",
      "17.5%\n",
      "18.8%\n",
      "20.0%\n",
      "21.2%\n",
      "22.5%\n",
      "23.8%\n",
      "25.0%\n"
     ]
    },
    {
     "name": "stderr",
     "output_type": "stream",
     "text": [
      "C:\\Users\\Dickwad\\anaconda3\\envs\\deoldify\\lib\\site-packages\\deoldify\\visualize.py:156: RuntimeWarning: More than 20 figures have been opened. Figures created through the pyplot interface (`matplotlib.pyplot.figure`) are retained until explicitly closed and may consume too much memory. (To control this warning, see the rcParam `figure.max_open_warning`).\n",
      "  fig, axes = plt.subplots(1, 1, figsize=figsize)\n"
     ]
    },
    {
     "name": "stdout",
     "output_type": "stream",
     "text": [
      "26.2%\n",
      "27.5%\n",
      "28.7%\n",
      "30.0%\n",
      "31.2%\n",
      "32.5%\n",
      "33.8%\n",
      "35.0%\n",
      "36.2%\n",
      "37.5%\n",
      "38.8%\n",
      "40.0%\n",
      "41.2%\n",
      "42.5%\n",
      "43.8%\n"
     ]
    }
   ],
   "source": [
    "#NOTE:  Max is 45 with 11GB video cards. 35 is a good default\n",
    "render_factor=30\n",
    "\n",
    "start_time = time.time()\n",
    "count = len(image_paths)\n",
    "i = 1\n",
    "percentage = ''\n",
    "\n",
    "# Generate colorized images\n",
    "for image_path in image_paths:\n",
    "    result_path = colorizer.plot_transformed_image(\n",
    "        path=image_path,\n",
    "        render_factor=render_factor,\n",
    "        compare=False,\n",
    "        results_dir=Path(output)\n",
    "    )\n",
    "    # Get percentage\n",
    "    percentage = (i / count) * 100\n",
    "    # Print percentage\n",
    "    print(f'{percentage:.1f}' + '%')\n",
    "    i += 1\n",
    "    \n",
    "runtime = ((time.time() - start_time) / 60)\n",
    "print(\"--- Runtime: \" + f'{runtime:.2f}' + \" minutes ---\")"
   ]
  },
  {
   "cell_type": "code",
   "execution_count": null,
   "id": "de77253d",
   "metadata": {},
   "outputs": [],
   "source": []
  }
 ],
 "metadata": {
  "kernelspec": {
   "display_name": "Python 3 (ipykernel)",
   "language": "python",
   "name": "python3"
  },
  "language_info": {
   "codemirror_mode": {
    "name": "ipython",
    "version": 3
   },
   "file_extension": ".py",
   "mimetype": "text/x-python",
   "name": "python",
   "nbconvert_exporter": "python",
   "pygments_lexer": "ipython3",
   "version": "3.7.10"
  }
 },
 "nbformat": 4,
 "nbformat_minor": 5
}
