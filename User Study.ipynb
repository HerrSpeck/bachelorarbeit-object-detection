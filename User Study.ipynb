{
 "cells": [
  {
   "cell_type": "code",
   "execution_count": 26,
   "id": "173a2a52",
   "metadata": {},
   "outputs": [
    {
     "name": "stdout",
     "output_type": "stream",
     "text": [
      "Num GPUs Available:  1\n"
     ]
    }
   ],
   "source": [
    "%run Helper.ipynb"
   ]
  },
  {
   "cell_type": "code",
   "execution_count": 2,
   "id": "acdaa484",
   "metadata": {},
   "outputs": [
    {
     "data": {
      "application/vnd.jupyter.widget-view+json": {
       "model_id": "685c673bbaad43d7b6202f46bf04245e",
       "version_major": 2,
       "version_minor": 0
      },
      "text/plain": [
       "HBox(children=(IntProgress(value=0, description='Loaded: ', max=80), Label(value='0 / 80')))"
      ]
     },
     "metadata": {},
     "output_type": "display_data"
    }
   ],
   "source": [
    "# Load all images\n",
    "images = load_images('inputs/samples/')"
   ]
  },
  {
   "cell_type": "code",
   "execution_count": 4,
   "id": "93b32082",
   "metadata": {},
   "outputs": [
    {
     "name": "stdout",
     "output_type": "stream",
     "text": [
      "Loading model EfficientDet\n",
      "Legacy set to False\n"
     ]
    },
    {
     "name": "stderr",
     "output_type": "stream",
     "text": [
      "WARNING:absl:Importing a function (__inference_EfficientDet-D6-D7_layer_call_and_return_conditional_losses_233604) with ops with custom gradients. Will likely fail if a gradient is requested.\n",
      "WARNING:absl:Importing a function (__inference_bifpn_layer_call_and_return_conditional_losses_169633) with ops with custom gradients. Will likely fail if a gradient is requested.\n",
      "WARNING:absl:Importing a function (__inference___call___54382) with ops with custom gradients. Will likely fail if a gradient is requested.\n",
      "WARNING:absl:Importing a function (__inference_EfficientDet-D6-D7_layer_call_and_return_conditional_losses_218766) with ops with custom gradients. Will likely fail if a gradient is requested.\n",
      "WARNING:absl:Importing a function (__inference_EfficientDet-D6-D7_layer_call_and_return_conditional_losses_209972) with ops with custom gradients. Will likely fail if a gradient is requested.\n",
      "WARNING:absl:Importing a function (__inference_bifpn_layer_call_and_return_conditional_losses_166209) with ops with custom gradients. Will likely fail if a gradient is requested.\n",
      "WARNING:absl:Importing a function (__inference_EfficientDet-D6-D7_layer_call_and_return_conditional_losses_242398) with ops with custom gradients. Will likely fail if a gradient is requested.\n"
     ]
    },
    {
     "name": "stdout",
     "output_type": "stream",
     "text": [
      "Model loaded!\n",
      "Loading model Faster R-CNN\n",
      "Legacy set to False\n",
      "Model loaded!\n",
      "Loading model Faster R-CNN (OpenImages)\n",
      "Legacy set to True\n",
      "Model loaded!\n",
      "Loading model CenterNet\n",
      "Legacy set to False\n",
      "Model loaded!\n"
     ]
    }
   ],
   "source": [
    "# Load all models\n",
    "models = {}\n",
    "for name, handle in ALL_MODELS.items():\n",
    "    print('Loading model ' + name)\n",
    "    \n",
    "    # Set use of legacy code according to model\n",
    "    set_legacy(False) if name != 'Faster R-CNN (OpenImages)' else set_legacy(True)\n",
    "    print('Legacy set to ' + str(USE_LEGACY))\n",
    "    \n",
    "    models[name] = load_model(handle)"
   ]
  },
  {
   "cell_type": "code",
   "execution_count": 16,
   "id": "2dbaffae",
   "metadata": {},
   "outputs": [
    {
     "name": "stdout",
     "output_type": "stream",
     "text": [
      "Running for model EfficientDet\n",
      "Legacy set to False\n"
     ]
    },
    {
     "data": {
      "application/vnd.jupyter.widget-view+json": {
       "model_id": "f83fb754ba5d4a83927b9b6a36f0e60a",
       "version_major": 2,
       "version_minor": 0
      },
      "text/plain": [
       "HBox(children=(IntProgress(value=0, description='Inferred: ', max=80), Label(value='0 / 80')))"
      ]
     },
     "metadata": {},
     "output_type": "display_data"
    },
    {
     "name": "stdout",
     "output_type": "stream",
     "text": [
      "Running for model Faster R-CNN\n",
      "Legacy set to False\n"
     ]
    },
    {
     "data": {
      "application/vnd.jupyter.widget-view+json": {
       "model_id": "3407f3bc4a4c410c8dc08f37b347cbc4",
       "version_major": 2,
       "version_minor": 0
      },
      "text/plain": [
       "HBox(children=(IntProgress(value=0, description='Inferred: ', max=80), Label(value='0 / 80')))"
      ]
     },
     "metadata": {},
     "output_type": "display_data"
    },
    {
     "name": "stdout",
     "output_type": "stream",
     "text": [
      "Running for model Faster R-CNN (OpenImages)\n",
      "Legacy set to True\n"
     ]
    },
    {
     "data": {
      "application/vnd.jupyter.widget-view+json": {
       "model_id": "8ca0b34c5ca04ce8b708b5882097bbc1",
       "version_major": 2,
       "version_minor": 0
      },
      "text/plain": [
       "HBox(children=(IntProgress(value=0, description='Inferred: ', max=80), Label(value='0 / 80')))"
      ]
     },
     "metadata": {},
     "output_type": "display_data"
    },
    {
     "name": "stdout",
     "output_type": "stream",
     "text": [
      "Running for model CenterNet\n",
      "Legacy set to False\n"
     ]
    },
    {
     "data": {
      "application/vnd.jupyter.widget-view+json": {
       "model_id": "b3a41cce7b9341d0be94d47b5b2556eb",
       "version_major": 2,
       "version_minor": 0
      },
      "text/plain": [
       "HBox(children=(IntProgress(value=0, description='Inferred: ', max=80), Label(value='0 / 80')))"
      ]
     },
     "metadata": {},
     "output_type": "display_data"
    }
   ],
   "source": [
    "images_with_detection = {}\n",
    "\n",
    "# Run detection for all models\n",
    "for name, model in models.items():\n",
    "    print('Running for model ' + name)\n",
    "    \n",
    "    # Set use of legacy code according to model\n",
    "    set_legacy(False) if name != 'Faster R-CNN (OpenImages)' else set_legacy(True)\n",
    "    print('Legacy set to ' + str(USE_LEGACY))\n",
    "    \n",
    "    # Run inference\n",
    "    images_with_detection[name] = run_inference(images, model)"
   ]
  },
  {
   "cell_type": "code",
   "execution_count": 19,
   "id": "6c9aa6cf",
   "metadata": {},
   "outputs": [
    {
     "name": "stdout",
     "output_type": "stream",
     "text": [
      "Running for model EfficientDet\n",
      "Legacy set to False\n",
      "Running for model Faster R-CNN\n",
      "Legacy set to False\n",
      "Running for model Faster R-CNN (OpenImages)\n",
      "Legacy set to True\n",
      "Running for model CenterNet\n",
      "Legacy set to False\n"
     ]
    }
   ],
   "source": [
    "# Setup detected classes with count\n",
    "detected_classes = {}\n",
    "\n",
    "for name, model in models.items():\n",
    "    print('Running for model ' + name)\n",
    "    \n",
    "    # Set use of legacy code according to model\n",
    "    set_legacy(False) if name != 'Faster R-CNN (OpenImages)' else set_legacy(True)\n",
    "    print('Legacy set to ' + str(USE_LEGACY))\n",
    "    \n",
    "    # Save generated detections for statistics\n",
    "    detected_classes[name] = get_detections_for_images(images_with_detection[name])"
   ]
  },
  {
   "cell_type": "code",
   "execution_count": null,
   "id": "fe5bbaf7",
   "metadata": {},
   "outputs": [],
   "source": [
    "for name, model in models.items():\n",
    "    print('Running for model ' + name)\n",
    "    \n",
    "    # Set use of legacy code according to model\n",
    "    set_legacy(False) if name != 'Faster R-CNN (OpenImages)' else set_legacy(True)\n",
    "    print('Legacy set to ' + str(USE_LEGACY))\n",
    "    \n",
    "    # Draw detections on image\n",
    "    draw_detections_on_images(images_with_detection[name])"
   ]
  },
  {
   "cell_type": "code",
   "execution_count": null,
   "id": "34b61fd1",
   "metadata": {},
   "outputs": [],
   "source": [
    "for name, model in models.items():\n",
    "    print('Running for model ' + name)\n",
    "    \n",
    "    # Set use of legacy code according to model\n",
    "    set_legacy(False) if name != 'Faster R-CNN (OpenImages)' else set_legacy(True)\n",
    "    print('Legacy set to ' + str(USE_LEGACY))\n",
    "    \n",
    "    # Save new images\n",
    "    save_images(images_with_detection[name], name)"
   ]
  },
  {
   "cell_type": "code",
   "execution_count": 22,
   "id": "d881964f",
   "metadata": {
    "scrolled": false
   },
   "outputs": [
    {
     "name": "stdout",
     "output_type": "stream",
     "text": [
      "EfficientDet: 338.0\n",
      "Faster R-CNN: 553.0\n",
      "Faster R-CNN (OpenImages): 335.0\n",
      "CenterNet: 190.0\n"
     ]
    }
   ],
   "source": [
    "# Generate statistics\n",
    "get_statistics_for_detections(detected_classes, len(images))\n",
    "generate_detection_charts(detected_classes, len(images))"
   ]
  },
  {
   "cell_type": "code",
   "execution_count": null,
   "id": "34729cc3",
   "metadata": {},
   "outputs": [],
   "source": [
    "# Generate statistics from survey\n",
    "detection_results = pd.read_csv(\"outputs/statistics/results_detection.csv\")\n",
    "\n",
    "mapping = {\n",
    "    'Very accurate': 1,\n",
    "    'Mostly accurate': 0.75,\n",
    "    'Neither accurate nor inaccurate': 0.5,\n",
    "    'Mostly inaccurate': 0.25,\n",
    "    'Very inaccurate': 0\n",
    "}\n",
    "\n",
    "series = {}\n",
    "for model_shortcut in ['EfficientDet', 'CenterNet', 'OpenImages (Faster R-CNN)', 'Faster R-CNN']:\n",
    "    model_columns = detection_results.filter(like=model_shortcut[0]).columns\n",
    "    \n",
    "    mappings = pd.Series(dtype='float64')\n",
    "    for column in model_columns:\n",
    "        mappings = pd.concat([mappings, detection_results[column].dropna().map(lambda x: mapping[x])])\n",
    "    mappings = mappings[:2900]\n",
    "    print(mappings.size)\n",
    "    \n",
    "    if 'OpenImages' in model_shortcut:\n",
    "        model_shortcut = 'Faster R-CNN (OpenImagesV4)'\n",
    "    series[model_shortcut] = detection_results[model_columns.array].applymap(lambda x: 'Neither' if type(x) == str and 'Neither' in x else x).apply(pd.value_counts).sum(axis=1)\n",
    "    series[model_shortcut] = series[model_shortcut].reindex(index = ['Very inaccurate', 'Mostly inaccurate', 'Neither', 'Mostly accurate', 'Very accurate'])\n",
    "    \n",
    "    print(model_shortcut + ': ' + str(mappings.mean()))\n",
    "\n",
    "plot = pd.DataFrame(series).plot(kind='bar', rot=0, fontsize=18)\n",
    "plot.legend(prop={'size': 14}, loc='best')\n",
    "plot.set_xticklabels([\"Very\\n inaccurate\", \"Mostly\\n inaccurate\", 'Neither', \"Mostly\\n accurate\", \"Very\\n accurate\"])\n",
    "\n",
    "save_fig('outputs/statistics/model_comparison')"
   ]
  },
  {
   "cell_type": "code",
   "execution_count": null,
   "id": "199ed156",
   "metadata": {},
   "outputs": [],
   "source": [
    "# Generate stats about IAA (Inter-Annotator-Agreement)\n",
    "calculate_iaa(detection_results)"
   ]
  },
  {
   "cell_type": "code",
   "execution_count": 27,
   "id": "3bd39474",
   "metadata": {
    "scrolled": true
   },
   "outputs": [],
   "source": [
    "# Statistics on participant backgrounds\n",
    "background_results = pd.read_csv(\"outputs/statistics/results_background.csv\")\n",
    "\n",
    "# Plot statistics\n",
    "if not background_results.empty:\n",
    "    generate_participant_statistics(background_results)"
   ]
  },
  {
   "cell_type": "code",
   "execution_count": null,
   "id": "649ac2bd",
   "metadata": {},
   "outputs": [],
   "source": []
  }
 ],
 "metadata": {
  "kernelspec": {
   "display_name": "Python 3 (ipykernel)",
   "language": "python",
   "name": "python3"
  },
  "language_info": {
   "codemirror_mode": {
    "name": "ipython",
    "version": 3
   },
   "file_extension": ".py",
   "mimetype": "text/x-python",
   "name": "python",
   "nbconvert_exporter": "python",
   "pygments_lexer": "ipython3",
   "version": "3.8.10"
  }
 },
 "nbformat": 4,
 "nbformat_minor": 5
}
