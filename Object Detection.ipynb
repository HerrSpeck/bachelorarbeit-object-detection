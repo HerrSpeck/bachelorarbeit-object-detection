{
 "cells": [
  {
   "cell_type": "code",
   "execution_count": null,
   "id": "173a2a52",
   "metadata": {},
   "outputs": [],
   "source": [
    "%run Helper.ipynb"
   ]
  },
  {
   "cell_type": "code",
   "execution_count": null,
   "id": "acdaa484",
   "metadata": {
    "scrolled": false
   },
   "outputs": [],
   "source": [
    "# Load all images\n",
    "images = load_images()"
   ]
  },
  {
   "cell_type": "code",
   "execution_count": null,
   "id": "93b32082",
   "metadata": {},
   "outputs": [],
   "source": [
    "# Load all models\n",
    "models = {}\n",
    "for name, handle in ALL_MODELS.items():\n",
    "    print('Loading model ' + name)\n",
    "    \n",
    "    # Set use of legacy code according to model\n",
    "    set_legacy(False) if name != 'Faster R-CNN (OpenImages)' else set_legacy(True)\n",
    "    print('Legacy set to ' + str(USE_LEGACY))\n",
    "    \n",
    "    models[name] = load_model(handle)"
   ]
  },
  {
   "cell_type": "code",
   "execution_count": null,
   "id": "2dbaffae",
   "metadata": {},
   "outputs": [],
   "source": [
    "# Setup detections (which can be used to generate statistics later)\n",
    "detections = {}\n",
    "images_with_detection = {}\n",
    "\n",
    "# Run detection for all models\n",
    "for name, model in models.items():\n",
    "    print('Running for model ' + name)\n",
    "    \n",
    "    # Set use of legacy code according to model\n",
    "    set_legacy(False) if name != 'Faster R-CNN (OpenImages)' else set_legacy(True)\n",
    "    print('Legacy set to ' + str(USE_LEGACY))\n",
    "    \n",
    "    # Run inference\n",
    "    images_with_detection[name] = run_inference(images, model)"
   ]
  },
  {
   "cell_type": "code",
   "execution_count": null,
   "id": "6c9aa6cf",
   "metadata": {},
   "outputs": [],
   "source": [
    "for name, model in models.items():\n",
    "    print('Running for model ' + name)\n",
    "    \n",
    "    # Set use of legacy code according to model\n",
    "    set_legacy(False) if name != 'Faster R-CNN (OpenImages)' else set_legacy(True)\n",
    "    print('Legacy set to ' + str(USE_LEGACY))\n",
    "    \n",
    "    # Save generated detections for statistics\n",
    "    detections[name] = get_detections_for_images(images_with_detection[name])"
   ]
  },
  {
   "cell_type": "code",
   "execution_count": null,
   "id": "fe5bbaf7",
   "metadata": {},
   "outputs": [],
   "source": [
    "for name, model in models.items():\n",
    "    print('Running for model ' + name)\n",
    "    \n",
    "    # Set use of legacy code according to model\n",
    "    set_legacy(False) if name != 'Faster R-CNN (OpenImages)' else set_legacy(True)\n",
    "    print('Legacy set to ' + str(USE_LEGACY))\n",
    "    \n",
    "    # Draw detections on image\n",
    "    draw_detections_on_images(images_with_detection[name])"
   ]
  },
  {
   "cell_type": "code",
   "execution_count": null,
   "id": "34b61fd1",
   "metadata": {},
   "outputs": [],
   "source": [
    "for name, model in models.items():\n",
    "    print('Running for model ' + name)\n",
    "    \n",
    "    # Set use of legacy code according to model\n",
    "    set_legacy(False) if name != 'Faster R-CNN (OpenImages)' else set_legacy(True)\n",
    "    print('Legacy set to ' + str(USE_LEGACY))\n",
    "    \n",
    "    # Save new images\n",
    "    save_images(images_with_detection[name], name)"
   ]
  },
  {
   "cell_type": "code",
   "execution_count": null,
   "id": "d881964f",
   "metadata": {},
   "outputs": [],
   "source": [
    "# Generate statistics\n",
    "get_statistics_for_detections(detections, len(images))\n",
    "generate_detection_charts(detections, len(images))"
   ]
  },
  {
   "cell_type": "code",
   "execution_count": null,
   "id": "66654aaf",
   "metadata": {},
   "outputs": [],
   "source": [
    "generate_wordclouds_for_all_models(detections)"
   ]
  },
  {
   "cell_type": "code",
   "execution_count": null,
   "id": "734620c7",
   "metadata": {},
   "outputs": [],
   "source": [
    "generate_wordclouds_by_dataset(detections)"
   ]
  }
 ],
 "metadata": {
  "kernelspec": {
   "display_name": "Python 3 (ipykernel)",
   "language": "python",
   "name": "python3"
  },
  "language_info": {
   "codemirror_mode": {
    "name": "ipython",
    "version": 3
   },
   "file_extension": ".py",
   "mimetype": "text/x-python",
   "name": "python",
   "nbconvert_exporter": "python",
   "pygments_lexer": "ipython3",
   "version": "3.8.10"
  }
 },
 "nbformat": 4,
 "nbformat_minor": 5
}
